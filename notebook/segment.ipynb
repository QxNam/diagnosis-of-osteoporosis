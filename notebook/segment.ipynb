{
 "cells": [
  {
   "cell_type": "markdown",
   "id": "719abfea",
   "metadata": {},
   "source": [
    "https://viblo.asia/p/maskrcnn-cac-buoc-trien-khai-training-model-maskrcnn-cho-bai-toan-segmentation-WAyK824nlxX"
   ]
  }
 ],
 "metadata": {
  "kernelspec": {
   "display_name": "Python 3 (ipykernel)",
   "language": "python",
   "name": "python3"
  },
  "language_info": {
   "codemirror_mode": {
    "name": "ipython",
    "version": 3
   },
   "file_extension": ".py",
   "mimetype": "text/x-python",
   "name": "python",
   "nbconvert_exporter": "python",
   "pygments_lexer": "ipython3",
   "version": "3.10.12"
  }
 },
 "nbformat": 4,
 "nbformat_minor": 5
}
